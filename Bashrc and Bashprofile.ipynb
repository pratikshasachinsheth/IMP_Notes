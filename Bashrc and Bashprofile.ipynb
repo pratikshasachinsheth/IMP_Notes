{
 "cells": [
  {
   "cell_type": "markdown",
   "metadata": {},
   "source": [
    "### .bashrc and .bash_profile are system oriented file. so this are hidden file and hidden files are always start with . like .bashrc or .bashprofile"
   ]
  },
  {
   "cell_type": "markdown",
   "metadata": {},
   "source": [
    "#### Using system file we can customzied our terminal like add color for font, background. Add shortcut for commands\n",
    "        We do this using file so that it can apply for all time whenever we open terminal.\n",
    "#### If we cusrtomzied terminal using command then it only apply for that time only\n",
    "#### If we move this two file into another folder and then open terminal then nothing is applied"
   ]
  },
  {
   "cell_type": "markdown",
   "metadata": {},
   "source": [
    "### If we run ls -\n",
    "        It give all files and directioray\n",
    "### But for hidden file and directiory to be list  use ls -a"
   ]
  },
  {
   "cell_type": "markdown",
   "metadata": {},
   "source": [
    "### In this we set enviromental path and variable in both .bashrc and .bash_profile "
   ]
  },
  {
   "cell_type": "markdown",
   "metadata": {},
   "source": [
    "## Difference between Bashrc and bashprofile:\n"
   ]
  },
  {
   "cell_type": "markdown",
   "metadata": {},
   "source": [
    "### 1.  .bashrc is non-interactive login while .bash_profile is interactive login\n",
    "#### .bashrc is non-interactive login bcoz when we make changes in thi file and open new terminal then whatever changes we made is apply automatically i.e whatever changes we made is come into picture only when we open new terminal.  but  .bash_profile is interactive login and in this if we make changes in file and then open new terminal then also changes that we made is applied . For changes to be apply we have to  do login using ssh localhost "
   ]
  },
  {
   "cell_type": "markdown",
   "metadata": {},
   "source": [
    "### And if we don't want to open new terminal and apply changes then use \n",
    "## - source .bashrc\n",
    "###  same for bash_profile"
   ]
  },
  {
   "cell_type": "code",
   "execution_count": null,
   "metadata": {
    "collapsed": true
   },
   "outputs": [],
   "source": []
  }
 ],
 "metadata": {
  "kernelspec": {
   "display_name": "Python [conda env:anaconda]",
   "language": "python",
   "name": "conda-env-anaconda-py"
  },
  "language_info": {
   "codemirror_mode": {
    "name": "ipython",
    "version": 2
   },
   "file_extension": ".py",
   "mimetype": "text/x-python",
   "name": "python",
   "nbconvert_exporter": "python",
   "pygments_lexer": "ipython2",
   "version": "2.7.12"
  }
 },
 "nbformat": 4,
 "nbformat_minor": 1
}
